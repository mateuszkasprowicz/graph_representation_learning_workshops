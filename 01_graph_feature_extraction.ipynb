{
  "nbformat": 4,
  "nbformat_minor": 0,
  "metadata": {
    "colab": {
      "provenance": [],
      "include_colab_link": true
    },
    "kernelspec": {
      "name": "python3",
      "display_name": "Python 3"
    },
    "language_info": {
      "name": "python"
    },
    "widgets": {
      "application/vnd.jupyter.widget-state+json": {
        "539123f5dbc940c6b9ccaaed93c41fa2": {
          "model_module": "@jupyter-widgets/controls",
          "model_name": "HBoxModel",
          "model_module_version": "1.5.0",
          "state": {
            "_dom_classes": [],
            "_model_module": "@jupyter-widgets/controls",
            "_model_module_version": "1.5.0",
            "_model_name": "HBoxModel",
            "_view_count": null,
            "_view_module": "@jupyter-widgets/controls",
            "_view_module_version": "1.5.0",
            "_view_name": "HBoxView",
            "box_style": "",
            "children": [
              "IPY_MODEL_09e39777130946168c83cd80e8e9f176",
              "IPY_MODEL_076ab7be421e471a90725904d67977d5",
              "IPY_MODEL_924b4afe84ee4a13aacf1e8b81bfe7f7"
            ],
            "layout": "IPY_MODEL_cb071ce789464b919216e2f4b05ff900"
          }
        },
        "09e39777130946168c83cd80e8e9f176": {
          "model_module": "@jupyter-widgets/controls",
          "model_name": "HTMLModel",
          "model_module_version": "1.5.0",
          "state": {
            "_dom_classes": [],
            "_model_module": "@jupyter-widgets/controls",
            "_model_module_version": "1.5.0",
            "_model_name": "HTMLModel",
            "_view_count": null,
            "_view_module": "@jupyter-widgets/controls",
            "_view_module_version": "1.5.0",
            "_view_name": "HTMLView",
            "description": "",
            "description_tooltip": null,
            "layout": "IPY_MODEL_a22f824eaaef45659cce3e8b2b2ce660",
            "placeholder": "​",
            "style": "IPY_MODEL_1c86b903c85f49bbaa6a60b0e7ad9e4c",
            "value": "100%"
          }
        },
        "076ab7be421e471a90725904d67977d5": {
          "model_module": "@jupyter-widgets/controls",
          "model_name": "FloatProgressModel",
          "model_module_version": "1.5.0",
          "state": {
            "_dom_classes": [],
            "_model_module": "@jupyter-widgets/controls",
            "_model_module_version": "1.5.0",
            "_model_name": "FloatProgressModel",
            "_view_count": null,
            "_view_module": "@jupyter-widgets/controls",
            "_view_module_version": "1.5.0",
            "_view_name": "ProgressView",
            "bar_style": "success",
            "description": "",
            "description_tooltip": null,
            "layout": "IPY_MODEL_282a2646ec0a45568ddcdc9544db5d01",
            "max": 1000,
            "min": 0,
            "orientation": "horizontal",
            "style": "IPY_MODEL_86bc209d30e941a08a8271b5fa216d2e",
            "value": 1000
          }
        },
        "924b4afe84ee4a13aacf1e8b81bfe7f7": {
          "model_module": "@jupyter-widgets/controls",
          "model_name": "HTMLModel",
          "model_module_version": "1.5.0",
          "state": {
            "_dom_classes": [],
            "_model_module": "@jupyter-widgets/controls",
            "_model_module_version": "1.5.0",
            "_model_name": "HTMLModel",
            "_view_count": null,
            "_view_module": "@jupyter-widgets/controls",
            "_view_module_version": "1.5.0",
            "_view_name": "HTMLView",
            "description": "",
            "description_tooltip": null,
            "layout": "IPY_MODEL_4bd3bbf1e881457dbf1e53de203c6ef5",
            "placeholder": "​",
            "style": "IPY_MODEL_d19f01b74df94881aa7fcb68fe07835a",
            "value": " 1000/1000 [00:02&lt;00:00, 610.28it/s]"
          }
        },
        "cb071ce789464b919216e2f4b05ff900": {
          "model_module": "@jupyter-widgets/base",
          "model_name": "LayoutModel",
          "model_module_version": "1.2.0",
          "state": {
            "_model_module": "@jupyter-widgets/base",
            "_model_module_version": "1.2.0",
            "_model_name": "LayoutModel",
            "_view_count": null,
            "_view_module": "@jupyter-widgets/base",
            "_view_module_version": "1.2.0",
            "_view_name": "LayoutView",
            "align_content": null,
            "align_items": null,
            "align_self": null,
            "border": null,
            "bottom": null,
            "display": null,
            "flex": null,
            "flex_flow": null,
            "grid_area": null,
            "grid_auto_columns": null,
            "grid_auto_flow": null,
            "grid_auto_rows": null,
            "grid_column": null,
            "grid_gap": null,
            "grid_row": null,
            "grid_template_areas": null,
            "grid_template_columns": null,
            "grid_template_rows": null,
            "height": null,
            "justify_content": null,
            "justify_items": null,
            "left": null,
            "margin": null,
            "max_height": null,
            "max_width": null,
            "min_height": null,
            "min_width": null,
            "object_fit": null,
            "object_position": null,
            "order": null,
            "overflow": null,
            "overflow_x": null,
            "overflow_y": null,
            "padding": null,
            "right": null,
            "top": null,
            "visibility": null,
            "width": null
          }
        },
        "a22f824eaaef45659cce3e8b2b2ce660": {
          "model_module": "@jupyter-widgets/base",
          "model_name": "LayoutModel",
          "model_module_version": "1.2.0",
          "state": {
            "_model_module": "@jupyter-widgets/base",
            "_model_module_version": "1.2.0",
            "_model_name": "LayoutModel",
            "_view_count": null,
            "_view_module": "@jupyter-widgets/base",
            "_view_module_version": "1.2.0",
            "_view_name": "LayoutView",
            "align_content": null,
            "align_items": null,
            "align_self": null,
            "border": null,
            "bottom": null,
            "display": null,
            "flex": null,
            "flex_flow": null,
            "grid_area": null,
            "grid_auto_columns": null,
            "grid_auto_flow": null,
            "grid_auto_rows": null,
            "grid_column": null,
            "grid_gap": null,
            "grid_row": null,
            "grid_template_areas": null,
            "grid_template_columns": null,
            "grid_template_rows": null,
            "height": null,
            "justify_content": null,
            "justify_items": null,
            "left": null,
            "margin": null,
            "max_height": null,
            "max_width": null,
            "min_height": null,
            "min_width": null,
            "object_fit": null,
            "object_position": null,
            "order": null,
            "overflow": null,
            "overflow_x": null,
            "overflow_y": null,
            "padding": null,
            "right": null,
            "top": null,
            "visibility": null,
            "width": null
          }
        },
        "1c86b903c85f49bbaa6a60b0e7ad9e4c": {
          "model_module": "@jupyter-widgets/controls",
          "model_name": "DescriptionStyleModel",
          "model_module_version": "1.5.0",
          "state": {
            "_model_module": "@jupyter-widgets/controls",
            "_model_module_version": "1.5.0",
            "_model_name": "DescriptionStyleModel",
            "_view_count": null,
            "_view_module": "@jupyter-widgets/base",
            "_view_module_version": "1.2.0",
            "_view_name": "StyleView",
            "description_width": ""
          }
        },
        "282a2646ec0a45568ddcdc9544db5d01": {
          "model_module": "@jupyter-widgets/base",
          "model_name": "LayoutModel",
          "model_module_version": "1.2.0",
          "state": {
            "_model_module": "@jupyter-widgets/base",
            "_model_module_version": "1.2.0",
            "_model_name": "LayoutModel",
            "_view_count": null,
            "_view_module": "@jupyter-widgets/base",
            "_view_module_version": "1.2.0",
            "_view_name": "LayoutView",
            "align_content": null,
            "align_items": null,
            "align_self": null,
            "border": null,
            "bottom": null,
            "display": null,
            "flex": null,
            "flex_flow": null,
            "grid_area": null,
            "grid_auto_columns": null,
            "grid_auto_flow": null,
            "grid_auto_rows": null,
            "grid_column": null,
            "grid_gap": null,
            "grid_row": null,
            "grid_template_areas": null,
            "grid_template_columns": null,
            "grid_template_rows": null,
            "height": null,
            "justify_content": null,
            "justify_items": null,
            "left": null,
            "margin": null,
            "max_height": null,
            "max_width": null,
            "min_height": null,
            "min_width": null,
            "object_fit": null,
            "object_position": null,
            "order": null,
            "overflow": null,
            "overflow_x": null,
            "overflow_y": null,
            "padding": null,
            "right": null,
            "top": null,
            "visibility": null,
            "width": null
          }
        },
        "86bc209d30e941a08a8271b5fa216d2e": {
          "model_module": "@jupyter-widgets/controls",
          "model_name": "ProgressStyleModel",
          "model_module_version": "1.5.0",
          "state": {
            "_model_module": "@jupyter-widgets/controls",
            "_model_module_version": "1.5.0",
            "_model_name": "ProgressStyleModel",
            "_view_count": null,
            "_view_module": "@jupyter-widgets/base",
            "_view_module_version": "1.2.0",
            "_view_name": "StyleView",
            "bar_color": null,
            "description_width": ""
          }
        },
        "4bd3bbf1e881457dbf1e53de203c6ef5": {
          "model_module": "@jupyter-widgets/base",
          "model_name": "LayoutModel",
          "model_module_version": "1.2.0",
          "state": {
            "_model_module": "@jupyter-widgets/base",
            "_model_module_version": "1.2.0",
            "_model_name": "LayoutModel",
            "_view_count": null,
            "_view_module": "@jupyter-widgets/base",
            "_view_module_version": "1.2.0",
            "_view_name": "LayoutView",
            "align_content": null,
            "align_items": null,
            "align_self": null,
            "border": null,
            "bottom": null,
            "display": null,
            "flex": null,
            "flex_flow": null,
            "grid_area": null,
            "grid_auto_columns": null,
            "grid_auto_flow": null,
            "grid_auto_rows": null,
            "grid_column": null,
            "grid_gap": null,
            "grid_row": null,
            "grid_template_areas": null,
            "grid_template_columns": null,
            "grid_template_rows": null,
            "height": null,
            "justify_content": null,
            "justify_items": null,
            "left": null,
            "margin": null,
            "max_height": null,
            "max_width": null,
            "min_height": null,
            "min_width": null,
            "object_fit": null,
            "object_position": null,
            "order": null,
            "overflow": null,
            "overflow_x": null,
            "overflow_y": null,
            "padding": null,
            "right": null,
            "top": null,
            "visibility": null,
            "width": null
          }
        },
        "d19f01b74df94881aa7fcb68fe07835a": {
          "model_module": "@jupyter-widgets/controls",
          "model_name": "DescriptionStyleModel",
          "model_module_version": "1.5.0",
          "state": {
            "_model_module": "@jupyter-widgets/controls",
            "_model_module_version": "1.5.0",
            "_model_name": "DescriptionStyleModel",
            "_view_count": null,
            "_view_module": "@jupyter-widgets/base",
            "_view_module_version": "1.2.0",
            "_view_name": "StyleView",
            "description_width": ""
          }
        },
        "934d5002e44e4f8d8bfb1fce0885f273": {
          "model_module": "@jupyter-widgets/controls",
          "model_name": "HBoxModel",
          "model_module_version": "1.5.0",
          "state": {
            "_dom_classes": [],
            "_model_module": "@jupyter-widgets/controls",
            "_model_module_version": "1.5.0",
            "_model_name": "HBoxModel",
            "_view_count": null,
            "_view_module": "@jupyter-widgets/controls",
            "_view_module_version": "1.5.0",
            "_view_name": "HBoxView",
            "box_style": "",
            "children": [
              "IPY_MODEL_f00ec213a50a4ad9a4f76f1612090c9b",
              "IPY_MODEL_d85ad66412d54ff6b6c681c0704d3d2d",
              "IPY_MODEL_7288305be66847a296afe93ffd7e0601"
            ],
            "layout": "IPY_MODEL_2bf6d5ce01b04d21aa1c9bbf398f36b2"
          }
        },
        "f00ec213a50a4ad9a4f76f1612090c9b": {
          "model_module": "@jupyter-widgets/controls",
          "model_name": "HTMLModel",
          "model_module_version": "1.5.0",
          "state": {
            "_dom_classes": [],
            "_model_module": "@jupyter-widgets/controls",
            "_model_module_version": "1.5.0",
            "_model_name": "HTMLModel",
            "_view_count": null,
            "_view_module": "@jupyter-widgets/controls",
            "_view_module_version": "1.5.0",
            "_view_name": "HTMLView",
            "description": "",
            "description_tooltip": null,
            "layout": "IPY_MODEL_abaef815d5cb4f84a854040ab1499e96",
            "placeholder": "​",
            "style": "IPY_MODEL_2fd3a875270040d8baf379832a0ff0e6",
            "value": "100%"
          }
        },
        "d85ad66412d54ff6b6c681c0704d3d2d": {
          "model_module": "@jupyter-widgets/controls",
          "model_name": "FloatProgressModel",
          "model_module_version": "1.5.0",
          "state": {
            "_dom_classes": [],
            "_model_module": "@jupyter-widgets/controls",
            "_model_module_version": "1.5.0",
            "_model_name": "FloatProgressModel",
            "_view_count": null,
            "_view_module": "@jupyter-widgets/controls",
            "_view_module_version": "1.5.0",
            "_view_name": "ProgressView",
            "bar_style": "success",
            "description": "",
            "description_tooltip": null,
            "layout": "IPY_MODEL_8b1d467c8bd64779b6e14b18f9c6d130",
            "max": 1000,
            "min": 0,
            "orientation": "horizontal",
            "style": "IPY_MODEL_adf9c04ff98f4341a8eb51fd8e64b986",
            "value": 1000
          }
        },
        "7288305be66847a296afe93ffd7e0601": {
          "model_module": "@jupyter-widgets/controls",
          "model_name": "HTMLModel",
          "model_module_version": "1.5.0",
          "state": {
            "_dom_classes": [],
            "_model_module": "@jupyter-widgets/controls",
            "_model_module_version": "1.5.0",
            "_model_name": "HTMLModel",
            "_view_count": null,
            "_view_module": "@jupyter-widgets/controls",
            "_view_module_version": "1.5.0",
            "_view_name": "HTMLView",
            "description": "",
            "description_tooltip": null,
            "layout": "IPY_MODEL_fc1bb219f4a340ce95ccb0bd11e18ca3",
            "placeholder": "​",
            "style": "IPY_MODEL_ef20a4f2e82b4e7a967a9eddc89eb4b9",
            "value": " 1000/1000 [00:03&lt;00:00, 353.80it/s]"
          }
        },
        "2bf6d5ce01b04d21aa1c9bbf398f36b2": {
          "model_module": "@jupyter-widgets/base",
          "model_name": "LayoutModel",
          "model_module_version": "1.2.0",
          "state": {
            "_model_module": "@jupyter-widgets/base",
            "_model_module_version": "1.2.0",
            "_model_name": "LayoutModel",
            "_view_count": null,
            "_view_module": "@jupyter-widgets/base",
            "_view_module_version": "1.2.0",
            "_view_name": "LayoutView",
            "align_content": null,
            "align_items": null,
            "align_self": null,
            "border": null,
            "bottom": null,
            "display": null,
            "flex": null,
            "flex_flow": null,
            "grid_area": null,
            "grid_auto_columns": null,
            "grid_auto_flow": null,
            "grid_auto_rows": null,
            "grid_column": null,
            "grid_gap": null,
            "grid_row": null,
            "grid_template_areas": null,
            "grid_template_columns": null,
            "grid_template_rows": null,
            "height": null,
            "justify_content": null,
            "justify_items": null,
            "left": null,
            "margin": null,
            "max_height": null,
            "max_width": null,
            "min_height": null,
            "min_width": null,
            "object_fit": null,
            "object_position": null,
            "order": null,
            "overflow": null,
            "overflow_x": null,
            "overflow_y": null,
            "padding": null,
            "right": null,
            "top": null,
            "visibility": null,
            "width": null
          }
        },
        "abaef815d5cb4f84a854040ab1499e96": {
          "model_module": "@jupyter-widgets/base",
          "model_name": "LayoutModel",
          "model_module_version": "1.2.0",
          "state": {
            "_model_module": "@jupyter-widgets/base",
            "_model_module_version": "1.2.0",
            "_model_name": "LayoutModel",
            "_view_count": null,
            "_view_module": "@jupyter-widgets/base",
            "_view_module_version": "1.2.0",
            "_view_name": "LayoutView",
            "align_content": null,
            "align_items": null,
            "align_self": null,
            "border": null,
            "bottom": null,
            "display": null,
            "flex": null,
            "flex_flow": null,
            "grid_area": null,
            "grid_auto_columns": null,
            "grid_auto_flow": null,
            "grid_auto_rows": null,
            "grid_column": null,
            "grid_gap": null,
            "grid_row": null,
            "grid_template_areas": null,
            "grid_template_columns": null,
            "grid_template_rows": null,
            "height": null,
            "justify_content": null,
            "justify_items": null,
            "left": null,
            "margin": null,
            "max_height": null,
            "max_width": null,
            "min_height": null,
            "min_width": null,
            "object_fit": null,
            "object_position": null,
            "order": null,
            "overflow": null,
            "overflow_x": null,
            "overflow_y": null,
            "padding": null,
            "right": null,
            "top": null,
            "visibility": null,
            "width": null
          }
        },
        "2fd3a875270040d8baf379832a0ff0e6": {
          "model_module": "@jupyter-widgets/controls",
          "model_name": "DescriptionStyleModel",
          "model_module_version": "1.5.0",
          "state": {
            "_model_module": "@jupyter-widgets/controls",
            "_model_module_version": "1.5.0",
            "_model_name": "DescriptionStyleModel",
            "_view_count": null,
            "_view_module": "@jupyter-widgets/base",
            "_view_module_version": "1.2.0",
            "_view_name": "StyleView",
            "description_width": ""
          }
        },
        "8b1d467c8bd64779b6e14b18f9c6d130": {
          "model_module": "@jupyter-widgets/base",
          "model_name": "LayoutModel",
          "model_module_version": "1.2.0",
          "state": {
            "_model_module": "@jupyter-widgets/base",
            "_model_module_version": "1.2.0",
            "_model_name": "LayoutModel",
            "_view_count": null,
            "_view_module": "@jupyter-widgets/base",
            "_view_module_version": "1.2.0",
            "_view_name": "LayoutView",
            "align_content": null,
            "align_items": null,
            "align_self": null,
            "border": null,
            "bottom": null,
            "display": null,
            "flex": null,
            "flex_flow": null,
            "grid_area": null,
            "grid_auto_columns": null,
            "grid_auto_flow": null,
            "grid_auto_rows": null,
            "grid_column": null,
            "grid_gap": null,
            "grid_row": null,
            "grid_template_areas": null,
            "grid_template_columns": null,
            "grid_template_rows": null,
            "height": null,
            "justify_content": null,
            "justify_items": null,
            "left": null,
            "margin": null,
            "max_height": null,
            "max_width": null,
            "min_height": null,
            "min_width": null,
            "object_fit": null,
            "object_position": null,
            "order": null,
            "overflow": null,
            "overflow_x": null,
            "overflow_y": null,
            "padding": null,
            "right": null,
            "top": null,
            "visibility": null,
            "width": null
          }
        },
        "adf9c04ff98f4341a8eb51fd8e64b986": {
          "model_module": "@jupyter-widgets/controls",
          "model_name": "ProgressStyleModel",
          "model_module_version": "1.5.0",
          "state": {
            "_model_module": "@jupyter-widgets/controls",
            "_model_module_version": "1.5.0",
            "_model_name": "ProgressStyleModel",
            "_view_count": null,
            "_view_module": "@jupyter-widgets/base",
            "_view_module_version": "1.2.0",
            "_view_name": "StyleView",
            "bar_color": null,
            "description_width": ""
          }
        },
        "fc1bb219f4a340ce95ccb0bd11e18ca3": {
          "model_module": "@jupyter-widgets/base",
          "model_name": "LayoutModel",
          "model_module_version": "1.2.0",
          "state": {
            "_model_module": "@jupyter-widgets/base",
            "_model_module_version": "1.2.0",
            "_model_name": "LayoutModel",
            "_view_count": null,
            "_view_module": "@jupyter-widgets/base",
            "_view_module_version": "1.2.0",
            "_view_name": "LayoutView",
            "align_content": null,
            "align_items": null,
            "align_self": null,
            "border": null,
            "bottom": null,
            "display": null,
            "flex": null,
            "flex_flow": null,
            "grid_area": null,
            "grid_auto_columns": null,
            "grid_auto_flow": null,
            "grid_auto_rows": null,
            "grid_column": null,
            "grid_gap": null,
            "grid_row": null,
            "grid_template_areas": null,
            "grid_template_columns": null,
            "grid_template_rows": null,
            "height": null,
            "justify_content": null,
            "justify_items": null,
            "left": null,
            "margin": null,
            "max_height": null,
            "max_width": null,
            "min_height": null,
            "min_width": null,
            "object_fit": null,
            "object_position": null,
            "order": null,
            "overflow": null,
            "overflow_x": null,
            "overflow_y": null,
            "padding": null,
            "right": null,
            "top": null,
            "visibility": null,
            "width": null
          }
        },
        "ef20a4f2e82b4e7a967a9eddc89eb4b9": {
          "model_module": "@jupyter-widgets/controls",
          "model_name": "DescriptionStyleModel",
          "model_module_version": "1.5.0",
          "state": {
            "_model_module": "@jupyter-widgets/controls",
            "_model_module_version": "1.5.0",
            "_model_name": "DescriptionStyleModel",
            "_view_count": null,
            "_view_module": "@jupyter-widgets/base",
            "_view_module_version": "1.2.0",
            "_view_name": "StyleView",
            "description_width": ""
          }
        }
      }
    }
  },
  "cells": [
    {
      "cell_type": "markdown",
      "metadata": {
        "id": "view-in-github",
        "colab_type": "text"
      },
      "source": [
        "<a href=\"https://colab.research.google.com/github/mateuszkasprowicz/graph_representation_learning_workshops/blob/master/01_graph_feature_extraction.ipynb\" target=\"_parent\"><img src=\"https://colab.research.google.com/assets/colab-badge.svg\" alt=\"Open In Colab\"/></a>"
      ]
    },
    {
      "cell_type": "markdown",
      "source": [
        "# Graph feature extraction"
      ],
      "metadata": {
        "id": "TzJ5HxzLePkc"
      }
    },
    {
      "cell_type": "markdown",
      "source": [
        "## Setup"
      ],
      "metadata": {
        "id": "cPoYFsfYebYG"
      }
    },
    {
      "cell_type": "markdown",
      "source": [
        "Install libraries:\n",
        "- standard data science stack (Numpy, Pandas, Scikit-learn, tqdm)\n",
        "- graph libraries (NetworkX, NetworKit)\n",
        "- deep learning on graphs (PyTorch, PyTorch Scatter, PyTorch Geometric)\n",
        "\n",
        "For PyTorch Scatter, we use a small workaround for Google Colab - change PyTorch or Python version if necessary."
      ],
      "metadata": {
        "id": "tWD4nzvqexRR"
      }
    },
    {
      "cell_type": "code",
      "source": [
        "!pip install numpy pandas scikit-learn tqdm networkx networkit torch torch_geometric --extra-index-url https://download.pytorch.org/whl/cpu"
      ],
      "metadata": {
        "id": "I6U3WCeUeaw4"
      },
      "execution_count": null,
      "outputs": []
    },
    {
      "cell_type": "code",
      "source": [
        "\n",
        "!pip install torch_scatter -f https://data.pyg.org/whl/torch-2.1.0%2Bcpu/torch_scatter-2.1.2%2Bpt21cpu-cp310-cp310-linux_x86_64.whl"
      ],
      "metadata": {
        "id": "xy8zjdi0hL7j"
      },
      "execution_count": null,
      "outputs": []
    },
    {
      "cell_type": "markdown",
      "source": [
        "## Data loading"
      ],
      "metadata": {
        "id": "P_P7e3WCeWoA"
      }
    },
    {
      "cell_type": "markdown",
      "source": [
        "We will use **IMDB-BINARY** dataset:\n",
        "- a movie collaboration dataset\n",
        "- each graph represents a set of actors playing in movies from genre: Action or Romance\n",
        "- graphs are **ego-networks** (who-knows-whom), nodes are actors, edges mean that actors appear in the same movie\n",
        "- statistics:\n",
        "  - 1000 graphs\n",
        "  - 2 classes\n",
        "  - avg # nodes: 19.8\n",
        "  - avg # edges: 193.1\n",
        "  - no node/edge features\n",
        "\n",
        "So we have to predict the genre of the movies, based only on actors interactions!\n",
        "\n",
        "Dataset hosted by TU Dortmund University at [TUDataset](https://chrsmrrs.github.io/datasets/docs/datasets/)."
      ],
      "metadata": {
        "id": "ptQpmpa4gMCV"
      }
    },
    {
      "cell_type": "code",
      "execution_count": 3,
      "metadata": {
        "id": "Qkmr_Dv9eII4",
        "outputId": "e088a018-a273-4ae0-85a8-ea88d94e3199",
        "colab": {
          "base_uri": "https://localhost:8080/",
          "height": 804
        }
      },
      "outputs": [
        {
          "output_type": "stream",
          "name": "stderr",
          "text": [
            "Downloading https://www.chrsmrrs.com/graphkerneldatasets/IMDB-BINARY.zip\n",
            "Extracting data/IMDB-BINARY/IMDB-BINARY.zip\n",
            "Processing...\n",
            "Done!\n"
          ]
        },
        {
          "output_type": "stream",
          "name": "stdout",
          "text": [
            "Number of classes: 2\n",
            "\n",
            "TUDataset (#graphs=1000):\n",
            "+------------+----------+----------+\n",
            "|            |   #nodes |   #edges |\n",
            "|------------+----------+----------|\n",
            "| mean       |     19.8 |    193.1 |\n",
            "| std        |     10.1 |    211.3 |\n",
            "| min        |     12   |     52   |\n",
            "| quantile25 |     13   |     90   |\n",
            "| median     |     17   |    130   |\n",
            "| quantile75 |     22   |    194   |\n",
            "| max        |    136   |   2498   |\n",
            "+------------+----------+----------+\n",
            "\n"
          ]
        },
        {
          "output_type": "execute_result",
          "data": {
            "text/plain": [
              "<Axes: title={'center': 'Class distribution'}>"
            ]
          },
          "metadata": {},
          "execution_count": 3
        },
        {
          "output_type": "display_data",
          "data": {
            "text/plain": [
              "<Figure size 640x480 with 1 Axes>"
            ],
            "image/png": "[encoded data removed]"
          },
          "metadata": {}
        }
      ],
      "source": [
        "import pandas as pd\n",
        "from torch_geometric.data import Dataset\n",
        "from torch_geometric.datasets import TUDataset\n",
        "\n",
        "\n",
        "dataset = TUDataset(\n",
        "    root=\"data\",  # where to save dataset\n",
        "    name=\"IMDB-BINARY\"\n",
        ")\n",
        "\n",
        "print(f\"Number of classes: {dataset.num_classes}\")\n",
        "print()\n",
        "dataset.print_summary()\n",
        "print()\n",
        "pd.Series(dataset.y).value_counts().plot.bar(title=\"Class distribution\")"
      ]
    },
    {
      "cell_type": "markdown",
      "source": [
        "### PyTorch Geometric Dataset\n",
        "\n",
        "1. Built from graphs\n",
        "2. Regular PyTorch dataset, with indexing etc.\n",
        "3. Collection of `Data` objects, representing graphs:\n",
        "   - `edge_index` - adjacency matrix in COO sparse format\n",
        "   - `num_nodes` - $|V|$\n",
        "   - `x` - node features\n",
        "   - `y` - class"
      ],
      "metadata": {
        "id": "PWNmvwRNmBGh"
      }
    },
    {
      "cell_type": "code",
      "source": [
        "graph = dataset[0]\n",
        "\n",
        "print(\"Graph:\", graph)\n",
        "print(\"Adjacency matrix (COO sparse format):\", graph.edge_index)\n",
        "print(\"Number of nodes:\", graph.num_nodes)\n",
        "print(\"Node features:\", graph.x)\n",
        "print(\"Class:\", graph.y)"
      ],
      "metadata": {
        "id": "ta8coJTdlusk",
        "outputId": "647864ab-b7b1-4a9e-bc44-cc713d35703d",
        "colab": {
          "base_uri": "https://localhost:8080/"
        }
      },
      "execution_count": 5,
      "outputs": [
        {
          "output_type": "stream",
          "name": "stdout",
          "text": [
            "Graph: Data(edge_index=[2, 146], y=[1], num_nodes=20)\n",
            "Adjacency matrix (COO sparse format): tensor([[ 0,  0,  0,  0,  0,  1,  1,  1,  1,  1,  1,  1,  1,  2,  2,  2,  2,  2,\n",
            "          2,  2,  2,  2,  2,  2,  2,  2,  2,  2,  2,  2,  2,  2,  3,  3,  3,  3,\n",
            "          3,  3,  4,  4,  4,  4,  4,  5,  5,  5,  5,  5,  6,  6,  6,  6,  6,  6,\n",
            "          6,  6,  6,  6,  6,  7,  7,  7,  8,  8,  8,  8,  8,  8,  8,  8,  9,  9,\n",
            "          9,  9,  9, 10, 10, 10, 10, 10, 11, 11, 11, 11, 11, 11, 12, 12, 12, 12,\n",
            "         12, 12, 12, 12, 12, 12, 12, 13, 13, 13, 14, 14, 14, 14, 14, 14, 14, 14,\n",
            "         15, 15, 15, 15, 16, 16, 16, 16, 16, 16, 17, 17, 17, 17, 17, 17, 17, 17,\n",
            "         18, 18, 18, 18, 18, 18, 18, 18, 19, 19, 19, 19, 19, 19, 19, 19, 19, 19,\n",
            "         19, 19],\n",
            "        [ 2,  4,  5,  9, 10,  2,  6,  8, 12, 14, 17, 18, 19,  0,  1,  3,  4,  5,\n",
            "          6,  7,  8,  9, 10, 11, 12, 13, 14, 15, 16, 17, 18, 19,  2,  6, 11, 12,\n",
            "         16, 19,  0,  2,  5,  9, 10,  0,  2,  4,  9, 10,  1,  2,  3,  8, 11, 12,\n",
            "         14, 16, 17, 18, 19,  2, 13, 15,  1,  2,  6, 12, 14, 17, 18, 19,  0,  2,\n",
            "          4,  5, 10,  0,  2,  4,  5,  9,  2,  3,  6, 12, 16, 19,  1,  2,  3,  6,\n",
            "          8, 11, 14, 16, 17, 18, 19,  2,  7, 15,  1,  2,  6,  8, 12, 17, 18, 19,\n",
            "          2,  7, 13, 19,  2,  3,  6, 11, 12, 19,  1,  2,  6,  8, 12, 14, 18, 19,\n",
            "          1,  2,  6,  8, 12, 14, 17, 19,  1,  2,  3,  6,  8, 11, 12, 14, 15, 16,\n",
            "         17, 18]])\n",
            "Number of nodes: 20\n",
            "Node features: None\n",
            "Class: tensor([0])\n"
          ]
        }
      ]
    },
    {
      "cell_type": "markdown",
      "source": [
        "## Local Degree Profile (LDP)"
      ],
      "metadata": {
        "id": "SGG3dPLbnDBu"
      }
    },
    {
      "cell_type": "markdown",
      "source": [
        "1. Extract LDP features\n",
        "2. Gather features for all graphs\n",
        "3. Classify with Random Forest\n",
        "\n",
        "We will use [PyTorch Geometric code for LDP](https://pytorch-geometric.readthedocs.io/en/latest/_modules/torch_geometric/transforms/local_degree_profile.html), but slightly modified."
      ],
      "metadata": {
        "id": "Jq9F_49Vn1qp"
      }
    },
    {
      "cell_type": "code",
      "source": [
        "import numpy as np\n",
        "import torch\n",
        "from torch_geometric.data import Data\n",
        "from torch_geometric.nn.aggr.fused import FusedAggregation\n",
        "from torch_geometric.utils import degree\n",
        "\n",
        "\n",
        "def extract_ldp_features(graph: Data) -> np.ndarray:\n",
        "    row, col = graph.edge_index\n",
        "    N = graph.num_nodes\n",
        "\n",
        "    # compute degree for each node, using adjacency matrix\n",
        "    deg = degree(row, N, dtype=torch.float).view(-1, 1)\n",
        "\n",
        "    # compute degree statistics, using node degrees and adjacency matrix\n",
        "    aggr = FusedAggregation([\"min\", \"max\", \"mean\", \"std\"])\n",
        "    aggregated_features = aggr(deg[col], row, dim_size=N)\n",
        "\n",
        "    # combine features into a single list of Numpy vectors\n",
        "    aggregated_features = [deg] + aggregated_features\n",
        "    aggregated_features = [feature.numpy().ravel() for feature in aggregated_features]\n",
        "\n",
        "    # aggregate each feature with a histogram and concatenate them\n",
        "    aggregated_features = [np.histogram(feature, bins=50)[0] for feature in aggregated_features]\n",
        "    aggregated_features = np.hstack(aggregated_features)\n",
        "\n",
        "    return aggregated_features\n"
      ],
      "metadata": {
        "id": "YtX5zVIHmAnh"
      },
      "execution_count": 19,
      "outputs": []
    },
    {
      "cell_type": "code",
      "source": [
        "from tqdm.notebook import tqdm\n",
        "\n",
        "\n",
        "def dataset_to_ldp_features(dataset: Dataset) -> np.ndarray:\n",
        "    X = []\n",
        "    for graph in tqdm(dataset, total=len(dataset)):\n",
        "        x = extract_ldp_features(graph)\n",
        "        X.append(x)\n",
        "\n",
        "    return np.stack(X)\n"
      ],
      "metadata": {
        "id": "QaMjICiNp0y_"
      },
      "execution_count": 23,
      "outputs": []
    },
    {
      "cell_type": "code",
      "source": [
        "from sklearn.ensemble import RandomForestClassifier\n",
        "from sklearn.model_selection import cross_val_score\n",
        "\n",
        "\n",
        "def train_ldp(dataset: Dataset) -> None:\n",
        "    clf = RandomForestClassifier(n_estimators=500, n_jobs=-1)\n",
        "    X = dataset_to_ldp_features(dataset)\n",
        "    y = dataset.y.numpy()\n",
        "\n",
        "    scores = cross_val_score(\n",
        "        estimator=clf,\n",
        "        X=X,\n",
        "        y=y,\n",
        "        scoring=\"accuracy\",\n",
        "        cv=10,\n",
        "    )\n",
        "    test_acc = np.mean(scores)\n",
        "    print(f\"Test accuracy: {100 * test_acc:.2f}\")\n"
      ],
      "metadata": {
        "id": "DxKhrz3Bo5xw"
      },
      "execution_count": 24,
      "outputs": []
    },
    {
      "cell_type": "code",
      "source": [
        "train_ldp(dataset)"
      ],
      "metadata": {
        "id": "nHAt6CWpuuPB",
        "outputId": "78ffc947-8d11-475b-a7d8-e53c62cafe2a",
        "colab": {
          "base_uri": "https://localhost:8080/",
          "height": 67,
          "referenced_widgets": [
            "539123f5dbc940c6b9ccaaed93c41fa2",
            "09e39777130946168c83cd80e8e9f176",
            "076ab7be421e471a90725904d67977d5",
            "924b4afe84ee4a13aacf1e8b81bfe7f7",
            "cb071ce789464b919216e2f4b05ff900",
            "a22f824eaaef45659cce3e8b2b2ce660",
            "1c86b903c85f49bbaa6a60b0e7ad9e4c",
            "282a2646ec0a45568ddcdc9544db5d01",
            "86bc209d30e941a08a8271b5fa216d2e",
            "4bd3bbf1e881457dbf1e53de203c6ef5",
            "d19f01b74df94881aa7fcb68fe07835a"
          ]
        }
      },
      "execution_count": 25,
      "outputs": [
        {
          "output_type": "display_data",
          "data": {
            "text/plain": [
              "  0%|          | 0/1000 [00:00<?, ?it/s]"
            ],
            "application/vnd.jupyter.widget-view+json": {
              "version_major": 2,
              "version_minor": 0,
              "model_id": "539123f5dbc940c6b9ccaaed93c41fa2"
            }
          },
          "metadata": {}
        },
        {
          "output_type": "stream",
          "name": "stdout",
          "text": [
            "Test accuracy: 69.80\n"
          ]
        }
      ]
    },
    {
      "cell_type": "markdown",
      "source": [
        "## Local Topological Profile (LTP)\n",
        "\n",
        "1. Extract LDP features\n",
        "2. Transform to NetworKit graph\n",
        "3. Calculate additional LTP features\n",
        "4. Gather features for all graphs\n",
        "5. Classify with Random Forest\n",
        "\n",
        "We will use NetworKit tutorials:\n",
        "- [edge betweenness centrality](https://networkit.github.io/dev-docs/notebooks/Centrality.html)\n",
        "- [Jaccard index](https://networkit.github.io/dev-docs/notebooks/LinkPrediction.html)\n",
        "- [Local Degree Score](https://networkit.github.io/dev-docs/notebooks/Sparsification.html)"
      ],
      "metadata": {
        "id": "vpqSLZ08vuIq"
      }
    },
    {
      "cell_type": "code",
      "source": [
        "from networkit.centrality import Betweenness\n",
        "from networkit.graph import Graph as NetworkitGraph\n",
        "from networkit.linkprediction import JaccardIndex\n",
        "from networkit.nxadapter import nx2nk\n",
        "from networkit.sparsification import LocalDegreeScore\n",
        "from torch_geometric.utils import to_networkx\n",
        "\n",
        "\n",
        "def calculate_edge_betweenness(graph: NetworkitGraph) -> np.ndarray:\n",
        "    # calculate betweenness and get edge scores\n",
        "    btwn = Betweenness(graph, computeEdgeCentrality=True)\n",
        "    btwn.run()\n",
        "    scores = btwn.scores()\n",
        "\n",
        "    # to Numpy\n",
        "    scores = np.array(scores, dtype=np.float32)\n",
        "    return scores\n",
        "\n",
        "\n",
        "def calculate_jaccard_index(graph: NetworkitGraph) -> np.ndarray:\n",
        "    # calculate Jaccard index values\n",
        "    jaccard = JaccardIndex(graph)\n",
        "    scores = [jaccard.run(u,v) for u,v in graph.iterEdges()]\n",
        "\n",
        "    # to Numpy, remove infinite values\n",
        "    scores = np.array(scores, dtype=np.float32)\n",
        "    scores = scores[np.isfinite(scores)]\n",
        "    return scores\n",
        "\n",
        "\n",
        "def calculate_local_degree_score(graph: NetworkitGraph) -> np.ndarray:\n",
        "    # calculate Local Degree Score values\n",
        "    lds = LocalDegreeScore(graph)\n",
        "    lds.run()\n",
        "    scores = lds.scores()\n",
        "    # to Numpy\n",
        "    scores = np.array(scores, dtype=np.float32)\n",
        "    return scores\n",
        "\n",
        "\n",
        "def extract_ltp_features(graph: Data) -> np.ndarray:\n",
        "    row, col = graph.edge_index\n",
        "    N = graph.num_nodes\n",
        "\n",
        "    # compute degree for each node, using adjacency matrix\n",
        "    deg = degree(row, N, dtype=torch.float).view(-1, 1)\n",
        "\n",
        "    # compute degree statistics, using node degrees and adjacency matrix\n",
        "    aggr = FusedAggregation([\"min\", \"max\", \"mean\", \"std\"])\n",
        "    aggregated_features = aggr(deg[col], row, dim_size=N)\n",
        "\n",
        "    # combine features into a single list of Numpy vectors\n",
        "    aggregated_features = [deg] + aggregated_features\n",
        "    aggregated_features = [feature.numpy().ravel() for feature in aggregated_features]\n",
        "\n",
        "    # transform to NetworKit\n",
        "    graph_networkx = to_networkx(graph, to_undirected=True)\n",
        "    graph_networkit = nx2nk(graph_networkx)\n",
        "    graph_networkit.indexEdges()\n",
        "\n",
        "    # calculate additional features\n",
        "    ebc = calculate_edge_betweenness(graph_networkit)\n",
        "    jaccard_index = calculate_jaccard_index(graph_networkit)\n",
        "    lds = calculate_local_degree_score(graph_networkit)\n",
        "\n",
        "    aggregated_features.extend([ebc, jaccard_index, lds])\n",
        "\n",
        "    # aggregate each feature with a histogram and concatenate them\n",
        "    aggregated_features = [np.histogram(feature, bins=50)[0] for feature in aggregated_features]\n",
        "    aggregated_features = np.hstack(aggregated_features)\n",
        "\n",
        "\n",
        "    return aggregated_features\n"
      ],
      "metadata": {
        "id": "dEcS-MWxvwOE"
      },
      "execution_count": 28,
      "outputs": []
    },
    {
      "cell_type": "code",
      "source": [
        "def dataset_to_ltp_features(dataset: Dataset) -> np.ndarray:\n",
        "    X = []\n",
        "    for graph in tqdm(dataset, total=len(dataset)):\n",
        "        x = extract_ltp_features(graph)\n",
        "        X.append(x)\n",
        "\n",
        "    return np.stack(X)\n"
      ],
      "metadata": {
        "id": "iEtCNTiOx4hj"
      },
      "execution_count": 29,
      "outputs": []
    },
    {
      "cell_type": "code",
      "source": [
        "from sklearn.ensemble import RandomForestClassifier\n",
        "from sklearn.model_selection import cross_val_score\n",
        "\n",
        "\n",
        "def train_ltp(dataset: Dataset) -> None:\n",
        "    clf = RandomForestClassifier(n_estimators=500, n_jobs=-1)\n",
        "    X = dataset_to_ltp_features(dataset)\n",
        "    y = dataset.y.numpy()\n",
        "\n",
        "    scores = cross_val_score(\n",
        "        estimator=clf,\n",
        "        X=X,\n",
        "        y=y,\n",
        "        scoring=\"accuracy\",\n",
        "        cv=10,\n",
        "    )\n",
        "    test_acc = np.mean(scores)\n",
        "    print(f\"Test accuracy: {100 * test_acc:.2f}\")\n"
      ],
      "metadata": {
        "id": "hQN6cCphx-z-"
      },
      "execution_count": 32,
      "outputs": []
    },
    {
      "cell_type": "code",
      "source": [
        "train_ltp(dataset)"
      ],
      "metadata": {
        "id": "6v0aXK7EyAag",
        "outputId": "f785b608-caa3-439c-faa3-264df7886f00",
        "colab": {
          "base_uri": "https://localhost:8080/",
          "height": 67,
          "referenced_widgets": [
            "934d5002e44e4f8d8bfb1fce0885f273",
            "f00ec213a50a4ad9a4f76f1612090c9b",
            "d85ad66412d54ff6b6c681c0704d3d2d",
            "7288305be66847a296afe93ffd7e0601",
            "2bf6d5ce01b04d21aa1c9bbf398f36b2",
            "abaef815d5cb4f84a854040ab1499e96",
            "2fd3a875270040d8baf379832a0ff0e6",
            "8b1d467c8bd64779b6e14b18f9c6d130",
            "adf9c04ff98f4341a8eb51fd8e64b986",
            "fc1bb219f4a340ce95ccb0bd11e18ca3",
            "ef20a4f2e82b4e7a967a9eddc89eb4b9"
          ]
        }
      },
      "execution_count": 33,
      "outputs": [
        {
          "output_type": "display_data",
          "data": {
            "text/plain": [
              "  0%|          | 0/1000 [00:00<?, ?it/s]"
            ],
            "application/vnd.jupyter.widget-view+json": {
              "version_major": 2,
              "version_minor": 0,
              "model_id": "934d5002e44e4f8d8bfb1fce0885f273"
            }
          },
          "metadata": {}
        },
        {
          "output_type": "stream",
          "name": "stdout",
          "text": [
            "Test accuracy: 72.60\n"
          ]
        }
      ]
    },
    {
      "cell_type": "code",
      "source": [],
      "metadata": {
        "id": "ectpGtiRy2LO"
      },
      "execution_count": null,
      "outputs": []
    }
  ]
}