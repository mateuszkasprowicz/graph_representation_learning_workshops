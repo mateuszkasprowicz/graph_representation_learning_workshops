{
  "nbformat": 4,
  "nbformat_minor": 0,
  "metadata": {
    "colab": {
      "provenance": [],
      "include_colab_link": true
    },
    "kernelspec": {
      "name": "python3",
      "display_name": "Python 3"
    },
    "language_info": {
      "name": "python"
    }
  },
  "cells": [
    {
      "cell_type": "markdown",
      "metadata": {
        "id": "view-in-github",
        "colab_type": "text"
      },
      "source": [
        "<a href=\"https://colab.research.google.com/github/mateuszkasprowicz/graph_representation_learning_workshops/blob/master/02_graph_kernels.ipynb\" target=\"_parent\"><img src=\"https://colab.research.google.com/assets/colab-badge.svg\" alt=\"Open In Colab\"/></a>"
      ]
    },
    {
      "cell_type": "markdown",
      "source": [
        "# Graph kernels"
      ],
      "metadata": {
        "id": "TzJ5HxzLePkc"
      }
    },
    {
      "cell_type": "markdown",
      "source": [
        "## Setup"
      ],
      "metadata": {
        "id": "cPoYFsfYebYG"
      }
    },
    {
      "cell_type": "markdown",
      "source": [
        "Install libraries:\n",
        "- standard data science stack (Numpy, Pandas, Scikit-learn)\n",
        "- graph and graph kernels libraries (NetworkX, GraKeL)\n"
      ],
      "metadata": {
        "id": "tWD4nzvqexRR"
      }
    },
    {
      "cell_type": "code",
      "source": [
        "!pip install numpy pandas scikit-learn grakel"
      ],
      "metadata": {
        "id": "I6U3WCeUeaw4"
      },
      "execution_count": null,
      "outputs": []
    },
    {
      "cell_type": "markdown",
      "source": [
        "## Data loading"
      ],
      "metadata": {
        "id": "P_P7e3WCeWoA"
      }
    },
    {
      "cell_type": "markdown",
      "source": [
        "We will use **PROTEINS** dataset:\n",
        "- bioinformatics proteins dataset\n",
        "- each graph represents a protein: enzyme or non-enzyme\n",
        "- nodes are secondary structure elements (SSE)\n",
        "- there is an edge if nodes are neighbors along the amino acid sequence\n",
        "or one of three nearest neighbors in space\n",
        "- statistics:\n",
        "  - 1113 graphs\n",
        "  - 2 classes\n",
        "  - avg # nodes: 39.1\n",
        "  - avg # edges: 72.9\n",
        "  - discrete node labels - 3 SSE types\n",
        "  - continous node features - various chemical properties\n",
        "\n",
        "We won't be using continous node features $X_n$. However, we can easily use node labels as starting labels for WL-kernel.\n",
        "\n",
        "Dataset hosted by TU Dortmund University at [TUDataset](https://chrsmrrs.github.io/datasets/docs/datasets/)."
      ],
      "metadata": {
        "id": "ptQpmpa4gMCV"
      }
    },
    {
      "cell_type": "code",
      "source": [
        "!wget -P data -r \"https://www.chrsmrrs.com/graphkerneldatasets/PROTEINS.zip\" -O PROTEINS.zip"
      ],
      "metadata": {
        "id": "ppSSP0r8dDR-",
        "outputId": "646e4ed2-32b6-42e2-d98b-69100453d255",
        "colab": {
          "base_uri": "https://localhost:8080/"
        }
      },
      "execution_count": 2,
      "outputs": [
        {
          "output_type": "stream",
          "name": "stdout",
          "text": [
            "WARNING: combining -O with -r or -p will mean that all downloaded content\n",
            "will be placed in the single file you specified.\n",
            "\n",
            "--2023-10-29 16:08:19--  https://www.chrsmrrs.com/graphkerneldatasets/PROTEINS.zip\n",
            "Resolving www.chrsmrrs.com (www.chrsmrrs.com)... 217.160.0.75, 2001:8d8:100f:f000::258\n",
            "Connecting to www.chrsmrrs.com (www.chrsmrrs.com)|217.160.0.75|:443... connected.\n",
            "HTTP request sent, awaiting response... 200 OK\n",
            "Length: 457912 (447K) [application/zip]\n",
            "Saving to: ‘PROTEINS.zip’\n",
            "\n",
            "INS.zip             100%[===================>] 447.18K   847KB/s    in 0.5s    \n",
            "\n",
            "2023-10-29 16:08:20 (847 KB/s) - ‘PROTEINS.zip’ saved [457912/457912]\n",
            "\n",
            "FINISHED --2023-10-29 16:08:20--\n",
            "Total wall clock time: 1.1s\n",
            "Downloaded: 1 files, 447K in 0.5s (847 KB/s)\n"
          ]
        }
      ]
    },
    {
      "cell_type": "code",
      "execution_count": 3,
      "metadata": {
        "id": "Qkmr_Dv9eII4",
        "outputId": "dae9159d-7c95-41d4-8436-3b66a103530c",
        "colab": {
          "base_uri": "https://localhost:8080/",
          "height": 589
        }
      },
      "outputs": [
        {
          "output_type": "stream",
          "name": "stdout",
          "text": [
            "Extracting dataset  PROTEINS..\n",
            "Parsing dataset  PROTEINS..\n",
            "Parse was succesful..\n",
            "Deleting unzipped dataset files..\n",
            "Going back to the original directory..\n",
            "Number of classes: 2\n",
            "\n"
          ]
        },
        {
          "output_type": "execute_result",
          "data": {
            "text/plain": [
              "<Axes: title={'center': 'Class distribution'}>"
            ]
          },
          "metadata": {},
          "execution_count": 3
        },
        {
          "output_type": "display_data",
          "data": {
            "text/plain": [
              "<Figure size 640x480 with 1 Axes>"
            ],
            "image/png": "[encoded data removed]"
          },
          "metadata": {}
        }
      ],
      "source": [
        "import numpy as np\n",
        "import pandas as pd\n",
        "\n",
        "from grakel.datasets import fetch_dataset\n",
        "\n",
        "\n",
        "dataset = fetch_dataset(\n",
        "    data_home=\".\",  # dataset location\n",
        "    name=\"PROTEINS\",\n",
        "    with_classes=True,\n",
        "    as_graphs=True,\n",
        ")\n",
        "graphs = dataset.data\n",
        "y = dataset.target\n",
        "y = y - 1  # remap {1, 2} to {0, 1}\n",
        "\n",
        "print(f\"Number of classes: {len(np.unique(y))}\")\n",
        "print()\n",
        "pd.Series(y).value_counts().plot.bar(title=\"Class distribution\")"
      ]
    },
    {
      "cell_type": "markdown",
      "source": [
        "## Weisfeiler-Lehman kernel classification"
      ],
      "metadata": {
        "id": "SGG3dPLbnDBu"
      }
    },
    {
      "cell_type": "markdown",
      "source": [
        "1. Calculate kernel matrix for training and test data\n",
        "2. Classify with kernel SVM\n",
        "\n",
        "We will use code inspired by [GraKeL MUTAG dataset tutorial](https://ysig.github.io/GraKeL/0.1a8/auto_examples/shortest_path.html)."
      ],
      "metadata": {
        "id": "Jq9F_49Vn1qp"
      }
    },
    {
      "cell_type": "code",
      "source": [
        "import numpy as np\n",
        "from grakel import Graph\n",
        "from grakel.kernels import WeisfeilerLehman\n",
        "from sklearn.metrics import accuracy_score\n",
        "from sklearn.model_selection import cross_val_score, train_test_split\n",
        "from sklearn.pipeline import make_pipeline\n",
        "from sklearn.svm import SVC\n",
        "\n",
        "\n",
        "def train_wl_kernel_svm(graphs: list[Graph], y: np.ndarray) -> None:\n",
        "    # create kernel\n",
        "    kernel = WeisfeilerLehman(n_jobs=-1, normalize=True, n_iter=5)\n",
        "\n",
        "    # create SVM with precomputed kernel\n",
        "    clf = SVC(kernel=\"precomputed\", random_state=1234)\n",
        "\n",
        "    # make pipeline\n",
        "    pipeline = make_pipeline(kernel, clf)\n",
        "\n",
        "    # testing with 10-fold CV\n",
        "    scores = cross_val_score(\n",
        "        estimator=pipeline,\n",
        "        X=graphs,\n",
        "        y=y,\n",
        "        scoring=\"accuracy\",\n",
        "        cv=10,\n",
        "    )\n",
        "    test_acc = np.mean(scores)\n",
        "    print(f\"Test accuracy: {100 * test_acc:.2f}\")\n"
      ],
      "metadata": {
        "id": "jWmQL_66PK3L"
      },
      "execution_count": 4,
      "outputs": []
    },
    {
      "cell_type": "code",
      "source": [
        "train_wl_kernel_svm(graphs, y)"
      ],
      "metadata": {
        "id": "w2xTTrYxQRGQ",
        "outputId": "90b82ef6-b189-4e00-c224-e9ad5f8d314d",
        "colab": {
          "base_uri": "https://localhost:8080/"
        }
      },
      "execution_count": 5,
      "outputs": [
        {
          "output_type": "stream",
          "name": "stdout",
          "text": [
            "Test accuracy: 75.73\n"
          ]
        }
      ]
    },
    {
      "cell_type": "code",
      "source": [],
      "metadata": {
        "id": "vEgtttw8kJlS"
      },
      "execution_count": null,
      "outputs": []
    }
  ]
}